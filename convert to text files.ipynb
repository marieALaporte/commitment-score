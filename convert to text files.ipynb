{
 "cells": [
  {
   "cell_type": "markdown",
   "metadata": {},
   "source": [
    "## DOC and DOCX to text"
   ]
  },
  {
   "cell_type": "code",
   "execution_count": null,
   "metadata": {},
   "outputs": [],
   "source": [
    "import textract\n",
    "import os\n",
    "path = \"pdfs/Telangana/\"\n",
    "pathOut = \"textFiles/Telangana/\"\n",
    "for filename in os.listdir(path):\n",
    "    if(\".doc\" in filename):\n",
    "        try:\n",
    "            text = textract.process(path + filename) \n",
    "            with open(pathOut+filename+'.txt','w', encoding='utf-8' ) as file:\n",
    "                #print(text.decode(\"utf-8\"))\n",
    "                file.write(text.decode(\"utf-8\") ) \n",
    "\n",
    "        except:\n",
    "            print(\"WRONG\" +filename)"
   ]
  },
  {
   "cell_type": "markdown",
   "metadata": {},
   "source": [
    "## pdfs to text\n",
    "From https://diging.atlassian.net/wiki/spaces/DCH/pages/5275668/Tutorial+Text+Extraction+and+OCR+with+Tesseract+and+ImageMagick?showComments=true&showCommentArea=true\n"
   ]
  },
  {
   "cell_type": "code",
   "execution_count": null,
   "metadata": {},
   "outputs": [],
   "source": [
    "%%bash\n",
    "#!/bin/bash\n",
    "convert () {\n",
    "    BPATH=$1  # Path to directory containing PDFs.\n",
    "    OPATH=$2  # Path to output directory.\n",
    "    LANG=$3   # See man tesseract > LANGUAGES\n",
    "    MIN_WORDS=5     # Number of words required to accept pdftotext result.\n",
    "    if [ $(echo \"$LANG\" | wc -c ) -lt 1 ]   # Language defaults to eng.\n",
    "        then\n",
    "            LANG='eng'\n",
    "    fi\n",
    "    echo \"language used: $LANG\"\n",
    "    # If the output path does not exist, attempt to create it.\n",
    "    if [ ! -d \"$OPATH\" ]; then\n",
    "        mkdir -p \"$OPATH\"\n",
    "    fi\n",
    "    for FILEPATH in $BPATH*.pdf; do\n",
    "        # Extracts plain text content from a PDF.\n",
    "        #\n",
    "        # First, attempts to extract embedded text with pdftotext. If that fails,\n",
    "        #  converts the PDF to TIFF and attempts to perform OCR with Tesseract.\n",
    "        #\n",
    "        # Path to text file to be created. E.g. ./myfile.txt\n",
    "        OUTFILE=$OPATH$(basename $FILEPATH).txt\n",
    "        touch \"$OUTFILE\"    # The text file will be created regardless of whether\n",
    "                            #  text is successfully extracted.\n",
    "        # First attempt ot use pdftotext to extract embedded text.\n",
    "        echo -n \"Attempting pdftotext extraction...\"\n",
    "        pdftotext \"$FILEPATH\" \"$OUTFILE\"\n",
    "        FILESIZE=$(wc -w < \"$OUTFILE\")\n",
    "        echo \"extracted $FILESIZE words.\"\n",
    "        # If that fails, try Tesseract.\n",
    "        if [[ $FILESIZE -lt $MIN_WORDS ]]\n",
    "            then\n",
    "                #rm \"$OUTFILE\"\n",
    "                echo -n \"Attempting OCR extraction...\"\n",
    "                # Use imagemagick to convert the PDF to a high-rest multi-page TIFF.\n",
    "                convert -density 300 \"$FILEPATH\" -depth 8 -strip -background white -alpha off ./temp.tiff > /dev/null 2>&1\n",
    "                # Then use Tesseract to perform OCR on the tiff.\n",
    "                tesseract ./temp.tiff \"$OUTFILE\" -l $LANG > /dev/null 2>&1\n",
    "                # We don't need then intermediate TIFF file, so discard it.\n",
    "                rm ./temp.tiff\n",
    "                TEXT=\".txt\"\n",
    "                FILESIZE=$(wc -w < \"$OUTFILE$TEXT\")\n",
    "                #rm \"$OUTFILE\"\n",
    "                echo \"extracted $FILESIZE words.\"\n",
    "        fi\n",
    "    done\n",
    "}\n",
    "\n",
    "# run like this - \"folder with pdfs\" \"output folder for texts\" \"language\"\n",
    "convert \"pdfs/\" \"texts/\" \"EN\""
   ]
  },
  {
   "cell_type": "markdown",
   "metadata": {},
   "source": [
    "## rename files \n",
    "only if files have weird names "
   ]
  },
  {
   "cell_type": "code",
   "execution_count": 7,
   "metadata": {},
   "outputs": [],
   "source": [
    "%%bash\n",
    "find . -name $'*\\n*' -exec rename  $'s|\\n| |g' '{}' \\;"
   ]
  },
  {
   "cell_type": "code",
   "execution_count": null,
   "metadata": {},
   "outputs": [],
   "source": []
  }
 ],
 "metadata": {
  "kernelspec": {
   "display_name": "Python 3",
   "language": "python",
   "name": "python3"
  },
  "language_info": {
   "codemirror_mode": {
    "name": "ipython",
    "version": 3
   },
   "file_extension": ".py",
   "mimetype": "text/x-python",
   "name": "python",
   "nbconvert_exporter": "python",
   "pygments_lexer": "ipython3",
   "version": "3.7.6"
  }
 },
 "nbformat": 4,
 "nbformat_minor": 2
}
